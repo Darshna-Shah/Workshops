{
 "cells": [
  {
   "cell_type": "code",
   "execution_count": 142,
   "metadata": {},
   "outputs": [
    {
     "data": {
      "text/html": [
       "        <script type=\"text/javascript\">\n",
       "        window.PlotlyConfig = {MathJaxConfig: 'local'};\n",
       "        if (window.MathJax) {MathJax.Hub.Config({SVG: {font: \"STIX-Web\"}});}\n",
       "        if (typeof require !== 'undefined') {\n",
       "        require.undef(\"plotly\");\n",
       "        requirejs.config({\n",
       "            paths: {\n",
       "                'plotly': ['https://cdn.plot.ly/plotly-latest.min']\n",
       "            }\n",
       "        });\n",
       "        require(['plotly'], function(Plotly) {\n",
       "            window._Plotly = Plotly;\n",
       "        });\n",
       "        }\n",
       "        </script>\n",
       "        "
      ]
     },
     "metadata": {},
     "output_type": "display_data"
    }
   ],
   "source": [
    "# import packages\n",
    "import numpy as np\n",
    "import pandas as pd\n",
    "import matplotlib.pyplot as plt  #will need to install\n",
    "%matplotlib inline\n",
    "plt.rcParams['figure.figsize'] = [15, 7]\n",
    "import plotly.offline as py\n",
    "py.init_notebook_mode(connected=True)\n",
    "import plotly.graph_objs as go\n",
    "import plotly.tools as tls\n",
    "import seaborn as sns\n",
    "import time\n",
    "import datetime\n",
    "import os\n",
    "\n",
    "#package imports for development of machine learning model\n",
    "from sklearn.ensemble import GradientBoostingRegressor\n",
    "from sklearn.linear_model import LinearRegression\n",
    "from sklearn.model_selection import train_test_split\n",
    "from sklearn.metrics import mean_squared_error\n",
    "from sklearn.metrics import r2_score\n",
    "from sklearn.metrics import explained_variance_score\n",
    "from sklearn.metrics import mean_absolute_error"
   ]
  },
  {
   "cell_type": "code",
   "execution_count": 2,
   "metadata": {},
   "outputs": [
    {
     "data": {
      "text/plain": [
       "'C:\\\\Users\\\\darsh\\\\OneDrive - Elastacloud Limited\\\\Community\\\\Conferences\\\\Digital Camp'"
      ]
     },
     "execution_count": 2,
     "metadata": {},
     "output_type": "execute_result"
    }
   ],
   "source": [
    "#Find your current worrking directory\n",
    "os.getcwd()"
   ]
  },
  {
   "cell_type": "code",
   "execution_count": 3,
   "metadata": {},
   "outputs": [],
   "source": [
    "#set current working directory to read data\n",
    "os.chdir(\"C:\\\\Users\\\\darsh\\\\OneDrive - Elastacloud Limited\\\\Community\\\\Conferences\\\\Digital Camp\\\\Data\\\\climate-change-earth-surface-temperature-data\")"
   ]
  },
  {
   "cell_type": "code",
   "execution_count": 4,
   "metadata": {},
   "outputs": [],
   "source": [
    "# Read in Data\n",
    "temperature = pd.read_csv(\"GlobalLandTemperaturesByCity.csv\")"
   ]
  },
  {
   "cell_type": "markdown",
   "metadata": {},
   "source": [
    "## Data Understanding\n",
    "-What does each row represent?\n",
    "\n",
    "-How many columns do I have? What are the columns measuring?\n",
    "\n",
    "-How many rows are present in the data? How much history do I have?\n",
    "\n",
    "-How much data is missing?\n",
    "\n",
    "-Are there any outliers present?"
   ]
  },
  {
   "cell_type": "code",
   "execution_count": 5,
   "metadata": {},
   "outputs": [
    {
     "data": {
      "text/plain": [
       "(8599212, 7)"
      ]
     },
     "execution_count": 5,
     "metadata": {},
     "output_type": "execute_result"
    }
   ],
   "source": [
    "# Find how many rows and columns the dataframe has\n",
    "temperature.shape"
   ]
  },
  {
   "cell_type": "code",
   "execution_count": 7,
   "metadata": {},
   "outputs": [
    {
     "data": {
      "text/html": [
       "<div>\n",
       "<style scoped>\n",
       "    .dataframe tbody tr th:only-of-type {\n",
       "        vertical-align: middle;\n",
       "    }\n",
       "\n",
       "    .dataframe tbody tr th {\n",
       "        vertical-align: top;\n",
       "    }\n",
       "\n",
       "    .dataframe thead th {\n",
       "        text-align: right;\n",
       "    }\n",
       "</style>\n",
       "<table border=\"1\" class=\"dataframe\">\n",
       "  <thead>\n",
       "    <tr style=\"text-align: right;\">\n",
       "      <th></th>\n",
       "      <th>dt</th>\n",
       "      <th>AverageTemperature</th>\n",
       "      <th>AverageTemperatureUncertainty</th>\n",
       "      <th>City</th>\n",
       "      <th>Country</th>\n",
       "      <th>Latitude</th>\n",
       "      <th>Longitude</th>\n",
       "    </tr>\n",
       "  </thead>\n",
       "  <tbody>\n",
       "    <tr>\n",
       "      <th>0</th>\n",
       "      <td>1743-11-01</td>\n",
       "      <td>6.068</td>\n",
       "      <td>1.737</td>\n",
       "      <td>Århus</td>\n",
       "      <td>Denmark</td>\n",
       "      <td>57.05N</td>\n",
       "      <td>10.33E</td>\n",
       "    </tr>\n",
       "    <tr>\n",
       "      <th>1</th>\n",
       "      <td>1743-12-01</td>\n",
       "      <td>NaN</td>\n",
       "      <td>NaN</td>\n",
       "      <td>Århus</td>\n",
       "      <td>Denmark</td>\n",
       "      <td>57.05N</td>\n",
       "      <td>10.33E</td>\n",
       "    </tr>\n",
       "    <tr>\n",
       "      <th>2</th>\n",
       "      <td>1744-01-01</td>\n",
       "      <td>NaN</td>\n",
       "      <td>NaN</td>\n",
       "      <td>Århus</td>\n",
       "      <td>Denmark</td>\n",
       "      <td>57.05N</td>\n",
       "      <td>10.33E</td>\n",
       "    </tr>\n",
       "    <tr>\n",
       "      <th>3</th>\n",
       "      <td>1744-02-01</td>\n",
       "      <td>NaN</td>\n",
       "      <td>NaN</td>\n",
       "      <td>Århus</td>\n",
       "      <td>Denmark</td>\n",
       "      <td>57.05N</td>\n",
       "      <td>10.33E</td>\n",
       "    </tr>\n",
       "    <tr>\n",
       "      <th>4</th>\n",
       "      <td>1744-03-01</td>\n",
       "      <td>NaN</td>\n",
       "      <td>NaN</td>\n",
       "      <td>Århus</td>\n",
       "      <td>Denmark</td>\n",
       "      <td>57.05N</td>\n",
       "      <td>10.33E</td>\n",
       "    </tr>\n",
       "  </tbody>\n",
       "</table>\n",
       "</div>"
      ],
      "text/plain": [
       "           dt  AverageTemperature  AverageTemperatureUncertainty   City  \\\n",
       "0  1743-11-01               6.068                          1.737  Århus   \n",
       "1  1743-12-01                 NaN                            NaN  Århus   \n",
       "2  1744-01-01                 NaN                            NaN  Århus   \n",
       "3  1744-02-01                 NaN                            NaN  Århus   \n",
       "4  1744-03-01                 NaN                            NaN  Århus   \n",
       "\n",
       "   Country Latitude Longitude  \n",
       "0  Denmark   57.05N    10.33E  \n",
       "1  Denmark   57.05N    10.33E  \n",
       "2  Denmark   57.05N    10.33E  \n",
       "3  Denmark   57.05N    10.33E  \n",
       "4  Denmark   57.05N    10.33E  "
      ]
     },
     "execution_count": 7,
     "metadata": {},
     "output_type": "execute_result"
    }
   ],
   "source": [
    "#explore the first 5 rows of data\n",
    "temperature.head(5)"
   ]
  },
  {
   "cell_type": "code",
   "execution_count": 8,
   "metadata": {},
   "outputs": [
    {
     "data": {
      "text/plain": [
       "dt                                    0\n",
       "AverageTemperature               364130\n",
       "AverageTemperatureUncertainty    364130\n",
       "City                                  0\n",
       "Country                               0\n",
       "Latitude                              0\n",
       "Longitude                             0\n",
       "dtype: int64"
      ]
     },
     "execution_count": 8,
     "metadata": {},
     "output_type": "execute_result"
    }
   ],
   "source": [
    "#Explore if there are any missing values\n",
    "temperature.isnull().sum()"
   ]
  },
  {
   "cell_type": "code",
   "execution_count": 10,
   "metadata": {},
   "outputs": [
    {
     "name": "stdout",
     "output_type": "stream",
     "text": [
      "<class 'pandas.core.frame.DataFrame'>\n",
      "RangeIndex: 8599212 entries, 0 to 8599211\n",
      "Data columns (total 7 columns):\n",
      "dt                               object\n",
      "AverageTemperature               float64\n",
      "AverageTemperatureUncertainty    float64\n",
      "City                             object\n",
      "Country                          object\n",
      "Latitude                         object\n",
      "Longitude                        object\n",
      "dtypes: float64(2), object(5)\n",
      "memory usage: 459.2+ MB\n"
     ]
    }
   ],
   "source": [
    "#Explore what types of data is there are (categorical, numerical, datetimes, etc)\n",
    "temperature.info()"
   ]
  },
  {
   "cell_type": "markdown",
   "metadata": {},
   "source": [
    "## Data Cleaning\n",
    "- Dealing with missing values\n",
    "- Dealing with outliers\n",
    "- Correcting data types\n",
    "- Create Features"
   ]
  },
  {
   "cell_type": "code",
   "execution_count": 14,
   "metadata": {},
   "outputs": [],
   "source": [
    "# change the 'dt' column from object to datetime\n",
    "temperature['dt'] = pd.to_datetime(temperature['dt'],format = \"%Y-%m-%d\")"
   ]
  },
  {
   "cell_type": "code",
   "execution_count": 15,
   "metadata": {},
   "outputs": [
    {
     "data": {
      "text/plain": [
       "dt                               1743-11-01 00:00:00\n",
       "AverageTemperature                             6.068\n",
       "AverageTemperatureUncertainty                  1.737\n",
       "City                                           Århus\n",
       "Country                                      Denmark\n",
       "Latitude                                      57.05N\n",
       "Longitude                                     10.33E\n",
       "Year                                            1743\n",
       "Name: 0, dtype: object"
      ]
     },
     "execution_count": 15,
     "metadata": {},
     "output_type": "execute_result"
    }
   ],
   "source": [
    "#create an year column from 'dt'\n",
    "temperature['Year'] = temperature['dt'].dt.year\n",
    "#show the first row of the dataframe\n",
    "temperature.iloc[0]"
   ]
  },
  {
   "cell_type": "code",
   "execution_count": 48,
   "metadata": {},
   "outputs": [
    {
     "data": {
      "text/plain": [
       "dt                               1743-11-01 00:00:00\n",
       "AverageTemperature                             6.068\n",
       "AverageTemperatureUncertainty                  1.737\n",
       "City                                           Århus\n",
       "Country                                      Denmark\n",
       "Latitude                                      57.05N\n",
       "Longitude                                     10.33E\n",
       "Year                                            1743\n",
       "Month                                             11\n",
       "Name: 0, dtype: object"
      ]
     },
     "execution_count": 48,
     "metadata": {},
     "output_type": "execute_result"
    }
   ],
   "source": [
    "#create a month columns from 'dt'\n",
    "temperature['Month'] = temperature['dt'].dt.month\n",
    "temperature.iloc[0]"
   ]
  },
  {
   "cell_type": "code",
   "execution_count": 49,
   "metadata": {},
   "outputs": [
    {
     "data": {
      "text/plain": [
       "(8235082, 9)"
      ]
     },
     "execution_count": 49,
     "metadata": {},
     "output_type": "execute_result"
    }
   ],
   "source": [
    "#drop any rows missing values\n",
    "temperature = temperature.dropna()\n",
    "#check how the dataframe shape has changed\n",
    "temperature.shape"
   ]
  },
  {
   "cell_type": "code",
   "execution_count": 50,
   "metadata": {},
   "outputs": [
    {
     "data": {
      "text/plain": [
       "India                       960548\n",
       "China                       819132\n",
       "United States               661524\n",
       "Brazil                      451645\n",
       "Russia                      448663\n",
       "Japan                       356467\n",
       "Indonesia                   273295\n",
       "Germany                     256446\n",
       "United Kingdom              215288\n",
       "Mexico                      208020\n",
       "Nigeria                     157012\n",
       "Spain                       156528\n",
       "Turkey                      147086\n",
       "Iran                        146168\n",
       "Italy                       132972\n",
       "Philippines                 124865\n",
       "Pakistan                    123265\n",
       "Poland                      120308\n",
       "France                      113976\n",
       "South Africa                 93653\n",
       "Venezuela                    83378\n",
       "Colombia                     79246\n",
       "Romania                      79150\n",
       "Netherlands                  75984\n",
       "Ukraine                      75981\n",
       "Canada                       71444\n",
       "Malaysia                     64723\n",
       "Vietnam                      62221\n",
       "Taiwan                       62106\n",
       "Argentina                    61968\n",
       "                             ...  \n",
       "Jordan                        2459\n",
       "Azerbaijan                    2454\n",
       "Mongolia                      2316\n",
       "Laos                          2246\n",
       "South Korea                   2096\n",
       "Hong Kong                     2080\n",
       "Guyana                        2078\n",
       "Suriname                      2078\n",
       "Cambodia                      2069\n",
       "Singapore                     2052\n",
       "Bahrain                       2014\n",
       "Qatar                         1964\n",
       "Costa Rica                    1953\n",
       "Mauritania                    1925\n",
       "Liberia                       1886\n",
       "Namibia                       1874\n",
       "Swaziland                     1873\n",
       "Botswana                      1873\n",
       "Lesotho                       1873\n",
       "Guinea Bissau                 1871\n",
       "Central African Republic      1735\n",
       "Congo                         1735\n",
       "Rwanda                        1722\n",
       "Reunion                       1682\n",
       "Mauritius                     1682\n",
       "Burundi                       1675\n",
       "Eritrea                       1669\n",
       "Djibouti                      1658\n",
       "Oman                          1652\n",
       "Papua New Guinea              1580\n",
       "Name: Country, Length: 159, dtype: int64"
      ]
     },
     "execution_count": 50,
     "metadata": {},
     "output_type": "execute_result"
    }
   ],
   "source": [
    "#establish how many unique countries are represented in the data\n",
    "temperature['Country'].value_counts()"
   ]
  },
  {
   "cell_type": "code",
   "execution_count": 51,
   "metadata": {},
   "outputs": [
    {
     "data": {
      "text/plain": [
       "159"
      ]
     },
     "execution_count": 51,
     "metadata": {},
     "output_type": "execute_result"
    }
   ],
   "source": [
    "len(temperature['Country'].value_counts())"
   ]
  },
  {
   "cell_type": "markdown",
   "metadata": {},
   "source": [
    "## Data Exploration\n",
    "-What pattern can we see in the data?\n",
    "\n",
    "-Are some relationships more intersting than others?\n",
    "\n",
    "-What correlations are present in the data?"
   ]
  },
  {
   "cell_type": "code",
   "execution_count": 143,
   "metadata": {},
   "outputs": [],
   "source": [
    "def centuryFromYear(year):\n",
    "    return (year - 1) // 100 + 1 "
   ]
  },
  {
   "cell_type": "code",
   "execution_count": 144,
   "metadata": {},
   "outputs": [],
   "source": [
    "datagrouped = temperature.groupby([\"Year\"])['AverageTemperature'].mean()\n",
    "df = datagrouped.reset_index()\n",
    "df['century'] = df['Year'].apply(centuryFromYear)"
   ]
  },
  {
   "cell_type": "code",
   "execution_count": 145,
   "metadata": {},
   "outputs": [],
   "source": [
    "# style\n",
    "plt.style.use('seaborn-darkgrid')\n",
    " \n",
    "# create a color palette\n",
    "palette = plt.get_cmap('Set1')\n",
    "\n",
    "#plt.figure(figsize=(22,6))"
   ]
  },
  {
   "cell_type": "code",
   "execution_count": 146,
   "metadata": {},
   "outputs": [
    {
     "data": {
      "text/plain": [
       "<matplotlib.axes._subplots.AxesSubplot at 0x20302f9e828>"
      ]
     },
     "execution_count": 146,
     "metadata": {},
     "output_type": "execute_result"
    },
    {
     "data": {
      "image/png": "[encoded data removed]",
      "text/plain": [
       "<Figure size 1080x504 with 1 Axes>"
      ]
     },
     "metadata": {},
     "output_type": "display_data"
    }
   ],
   "source": [
    "plt.title('Average surface temperatures of earth over time')\n",
    "plt.xlabel('Year')\n",
    "plt.ylabel('Avg temperature')\n",
    "\n",
    "df.groupby((df.Year//20)*20)['AverageTemperature'].mean().plot(kind='line')"
   ]
  },
  {
   "cell_type": "code",
   "execution_count": 147,
   "metadata": {},
   "outputs": [],
   "source": [
    "citiesEurope = temperature[(temperature['City'].isin(['London','Paris','Rome','Dublin','Madrid'])) & (temperature['Year'] >=1950)]"
   ]
  },
  {
   "cell_type": "code",
   "execution_count": 148,
   "metadata": {},
   "outputs": [
    {
     "data": {
      "text/html": [
       "<div>\n",
       "<style scoped>\n",
       "    .dataframe tbody tr th:only-of-type {\n",
       "        vertical-align: middle;\n",
       "    }\n",
       "\n",
       "    .dataframe tbody tr th {\n",
       "        vertical-align: top;\n",
       "    }\n",
       "\n",
       "    .dataframe thead th {\n",
       "        text-align: right;\n",
       "    }\n",
       "</style>\n",
       "<table border=\"1\" class=\"dataframe\">\n",
       "  <thead>\n",
       "    <tr style=\"text-align: right;\">\n",
       "      <th></th>\n",
       "      <th>Year</th>\n",
       "      <th>Dublin</th>\n",
       "      <th>London</th>\n",
       "      <th>Madrid</th>\n",
       "      <th>Paris</th>\n",
       "      <th>Rome</th>\n",
       "    </tr>\n",
       "  </thead>\n",
       "  <tbody>\n",
       "    <tr>\n",
       "      <th>0</th>\n",
       "      <td>1950</td>\n",
       "      <td>8.701417</td>\n",
       "      <td>8.711833</td>\n",
       "      <td>12.174083</td>\n",
       "      <td>10.768333</td>\n",
       "      <td>13.089333</td>\n",
       "    </tr>\n",
       "    <tr>\n",
       "      <th>1</th>\n",
       "      <td>1951</td>\n",
       "      <td>8.482667</td>\n",
       "      <td>8.839333</td>\n",
       "      <td>11.146250</td>\n",
       "      <td>10.590750</td>\n",
       "      <td>12.663000</td>\n",
       "    </tr>\n",
       "    <tr>\n",
       "      <th>2</th>\n",
       "      <td>1952</td>\n",
       "      <td>8.559583</td>\n",
       "      <td>9.145958</td>\n",
       "      <td>11.501083</td>\n",
       "      <td>10.531167</td>\n",
       "      <td>12.606583</td>\n",
       "    </tr>\n",
       "    <tr>\n",
       "      <th>3</th>\n",
       "      <td>1953</td>\n",
       "      <td>9.388000</td>\n",
       "      <td>9.666667</td>\n",
       "      <td>11.755500</td>\n",
       "      <td>10.837333</td>\n",
       "      <td>12.156000</td>\n",
       "    </tr>\n",
       "    <tr>\n",
       "      <th>4</th>\n",
       "      <td>1954</td>\n",
       "      <td>8.667750</td>\n",
       "      <td>8.949250</td>\n",
       "      <td>11.288917</td>\n",
       "      <td>10.254333</td>\n",
       "      <td>11.648917</td>\n",
       "    </tr>\n",
       "  </tbody>\n",
       "</table>\n",
       "</div>"
      ],
      "text/plain": [
       "   Year    Dublin    London     Madrid      Paris       Rome\n",
       "0  1950  8.701417  8.711833  12.174083  10.768333  13.089333\n",
       "1  1951  8.482667  8.839333  11.146250  10.590750  12.663000\n",
       "2  1952  8.559583  9.145958  11.501083  10.531167  12.606583\n",
       "3  1953  9.388000  9.666667  11.755500  10.837333  12.156000\n",
       "4  1954  8.667750  8.949250  11.288917  10.254333  11.648917"
      ]
     },
     "execution_count": 148,
     "metadata": {},
     "output_type": "execute_result"
    }
   ],
   "source": [
    "dfCountryGrouped = citiesEurope.groupby(['Year','City'])['AverageTemperature','AverageTemperatureUncertainty'].mean()\n",
    "dfCountryGrouped\n",
    "df = dfCountryGrouped.reset_index()\n",
    "plotdf = df.pivot(index='Year', columns='City', values='AverageTemperature').reset_index()\n",
    "plotdf.index.name = plotdf.columns.name = None\n",
    "plotdf.head()"
   ]
  },
  {
   "cell_type": "code",
   "execution_count": 149,
   "metadata": {},
   "outputs": [
    {
     "data": {
      "text/plain": [
       "<matplotlib.legend.Legend at 0x2030306bb00>"
      ]
     },
     "execution_count": 149,
     "metadata": {},
     "output_type": "execute_result"
    },
    {
     "data": {
      "image/png": "[encoded data removed]",
      "text/plain": [
       "<Figure size 1080x504 with 1 Axes>"
      ]
     },
     "metadata": {},
     "output_type": "display_data"
    }
   ],
   "source": [
    "num=0\n",
    "for column in plotdf.drop('Year', axis=1):\n",
    "    num+=1\n",
    "    plt.plot(plotdf['Year'], plotdf[column], marker='', color=palette(num), linewidth=1, alpha=0.9, label=column)\n",
    "plt.legend(loc=2, ncol=3)"
   ]
  },
  {
   "cell_type": "markdown",
   "metadata": {},
   "source": [
    "## What do we observe?\n",
    "In the last 30 years, the cities have started warming up significantly\n",
    "\n",
    "They all follow a similiar trend\n",
    "Try it yourself\n",
    "\n",
    "Try adding Title and Axis Labels to the above plot\n",
    "\n",
    "Can you try plotting the above graph for only the last 30 years to look at it more closely?"
   ]
  },
  {
   "cell_type": "code",
   "execution_count": null,
   "metadata": {},
   "outputs": [],
   "source": []
  },
  {
   "cell_type": "code",
   "execution_count": null,
   "metadata": {},
   "outputs": [],
   "source": []
  },
  {
   "cell_type": "markdown",
   "metadata": {},
   "source": [
    "## Data Modelling\n",
    "- Select features relevant for modelling\n",
    "- Create a temporal train-test split\n",
    "- Apply algorithms\n",
    "- Evaluate Performance"
   ]
  },
  {
   "cell_type": "code",
   "execution_count": 52,
   "metadata": {},
   "outputs": [
    {
     "data": {
      "text/html": [
       "<div>\n",
       "<style scoped>\n",
       "    .dataframe tbody tr th:only-of-type {\n",
       "        vertical-align: middle;\n",
       "    }\n",
       "\n",
       "    .dataframe tbody tr th {\n",
       "        vertical-align: top;\n",
       "    }\n",
       "\n",
       "    .dataframe thead th {\n",
       "        text-align: right;\n",
       "    }\n",
       "</style>\n",
       "<table border=\"1\" class=\"dataframe\">\n",
       "  <thead>\n",
       "    <tr style=\"text-align: right;\">\n",
       "      <th></th>\n",
       "      <th>dt</th>\n",
       "      <th>AverageTemperature</th>\n",
       "      <th>AverageTemperatureUncertainty</th>\n",
       "      <th>City</th>\n",
       "      <th>Country</th>\n",
       "      <th>Latitude</th>\n",
       "      <th>Longitude</th>\n",
       "      <th>Year</th>\n",
       "      <th>Month</th>\n",
       "    </tr>\n",
       "  </thead>\n",
       "  <tbody>\n",
       "    <tr>\n",
       "      <th>38481</th>\n",
       "      <td>1743-11-01</td>\n",
       "      <td>8.758</td>\n",
       "      <td>1.886</td>\n",
       "      <td>Aberdeen</td>\n",
       "      <td>United Kingdom</td>\n",
       "      <td>57.05N</td>\n",
       "      <td>1.48W</td>\n",
       "      <td>1743</td>\n",
       "      <td>11</td>\n",
       "    </tr>\n",
       "    <tr>\n",
       "      <th>38486</th>\n",
       "      <td>1744-04-01</td>\n",
       "      <td>6.070</td>\n",
       "      <td>2.934</td>\n",
       "      <td>Aberdeen</td>\n",
       "      <td>United Kingdom</td>\n",
       "      <td>57.05N</td>\n",
       "      <td>1.48W</td>\n",
       "      <td>1744</td>\n",
       "      <td>4</td>\n",
       "    </tr>\n",
       "    <tr>\n",
       "      <th>38487</th>\n",
       "      <td>1744-05-01</td>\n",
       "      <td>7.751</td>\n",
       "      <td>1.494</td>\n",
       "      <td>Aberdeen</td>\n",
       "      <td>United Kingdom</td>\n",
       "      <td>57.05N</td>\n",
       "      <td>1.48W</td>\n",
       "      <td>1744</td>\n",
       "      <td>5</td>\n",
       "    </tr>\n",
       "    <tr>\n",
       "      <th>38488</th>\n",
       "      <td>1744-06-01</td>\n",
       "      <td>10.620</td>\n",
       "      <td>1.574</td>\n",
       "      <td>Aberdeen</td>\n",
       "      <td>United Kingdom</td>\n",
       "      <td>57.05N</td>\n",
       "      <td>1.48W</td>\n",
       "      <td>1744</td>\n",
       "      <td>6</td>\n",
       "    </tr>\n",
       "    <tr>\n",
       "      <th>38489</th>\n",
       "      <td>1744-07-01</td>\n",
       "      <td>12.350</td>\n",
       "      <td>1.591</td>\n",
       "      <td>Aberdeen</td>\n",
       "      <td>United Kingdom</td>\n",
       "      <td>57.05N</td>\n",
       "      <td>1.48W</td>\n",
       "      <td>1744</td>\n",
       "      <td>7</td>\n",
       "    </tr>\n",
       "  </tbody>\n",
       "</table>\n",
       "</div>"
      ],
      "text/plain": [
       "              dt  AverageTemperature  AverageTemperatureUncertainty      City  \\\n",
       "38481 1743-11-01               8.758                          1.886  Aberdeen   \n",
       "38486 1744-04-01               6.070                          2.934  Aberdeen   \n",
       "38487 1744-05-01               7.751                          1.494  Aberdeen   \n",
       "38488 1744-06-01              10.620                          1.574  Aberdeen   \n",
       "38489 1744-07-01              12.350                          1.591  Aberdeen   \n",
       "\n",
       "              Country Latitude Longitude  Year  Month  \n",
       "38481  United Kingdom   57.05N     1.48W  1743     11  \n",
       "38486  United Kingdom   57.05N     1.48W  1744      4  \n",
       "38487  United Kingdom   57.05N     1.48W  1744      5  \n",
       "38488  United Kingdom   57.05N     1.48W  1744      6  \n",
       "38489  United Kingdom   57.05N     1.48W  1744      7  "
      ]
     },
     "execution_count": 52,
     "metadata": {},
     "output_type": "execute_result"
    }
   ],
   "source": [
    "#Filter the data to just look at the UK\n",
    "UK = temperature[temperature['Country'] == \"United Kingdom\"]\n",
    "UK.head(5)"
   ]
  },
  {
   "cell_type": "code",
   "execution_count": 53,
   "metadata": {},
   "outputs": [
    {
     "data": {
      "text/plain": [
       "(215288, 9)"
      ]
     },
     "execution_count": 53,
     "metadata": {},
     "output_type": "execute_result"
    }
   ],
   "source": [
    "UK.shape"
   ]
  },
  {
   "cell_type": "code",
   "execution_count": 54,
   "metadata": {},
   "outputs": [
    {
     "name": "stdout",
     "output_type": "stream",
     "text": [
      "1743-11-01 00:00:00\n",
      "2013-08-01 00:00:00\n",
      "98524 days 00:00:00\n"
     ]
    }
   ],
   "source": [
    "# what are the min and max dates of UK temperature data\n",
    "min = UK.dt.min()\n",
    "max = UK.dt.max()\n",
    "print(min)\n",
    "print(max)\n",
    "print(max-min)"
   ]
  },
  {
   "cell_type": "code",
   "execution_count": 56,
   "metadata": {},
   "outputs": [
    {
     "data": {
      "text/plain": [
       "dt                               0\n",
       "AverageTemperature               0\n",
       "AverageTemperatureUncertainty    0\n",
       "City                             0\n",
       "Country                          0\n",
       "Latitude                         0\n",
       "Longitude                        0\n",
       "Year                             0\n",
       "Month                            0\n",
       "dtype: int64"
      ]
     },
     "execution_count": 56,
     "metadata": {},
     "output_type": "execute_result"
    }
   ],
   "source": [
    "UK.isnull().sum()"
   ]
  },
  {
   "cell_type": "code",
   "execution_count": 83,
   "metadata": {},
   "outputs": [
    {
     "data": {
      "text/html": [
       "<div>\n",
       "<style scoped>\n",
       "    .dataframe tbody tr th:only-of-type {\n",
       "        vertical-align: middle;\n",
       "    }\n",
       "\n",
       "    .dataframe tbody tr th {\n",
       "        vertical-align: top;\n",
       "    }\n",
       "\n",
       "    .dataframe thead tr th {\n",
       "        text-align: left;\n",
       "    }\n",
       "</style>\n",
       "<table border=\"1\" class=\"dataframe\">\n",
       "  <thead>\n",
       "    <tr>\n",
       "      <th></th>\n",
       "      <th>Year</th>\n",
       "      <th>AverageTemperature</th>\n",
       "      <th>AverageTemperatureUncertainty</th>\n",
       "    </tr>\n",
       "    <tr>\n",
       "      <th></th>\n",
       "      <th></th>\n",
       "      <th>mean</th>\n",
       "      <th>mean</th>\n",
       "    </tr>\n",
       "  </thead>\n",
       "  <tbody>\n",
       "    <tr>\n",
       "      <th>0</th>\n",
       "      <td>1743</td>\n",
       "      <td>4.882424</td>\n",
       "      <td>1.953902</td>\n",
       "    </tr>\n",
       "    <tr>\n",
       "      <th>1</th>\n",
       "      <td>1744</td>\n",
       "      <td>10.734047</td>\n",
       "      <td>1.844291</td>\n",
       "    </tr>\n",
       "    <tr>\n",
       "      <th>2</th>\n",
       "      <td>1745</td>\n",
       "      <td>1.497593</td>\n",
       "      <td>1.844013</td>\n",
       "    </tr>\n",
       "    <tr>\n",
       "      <th>3</th>\n",
       "      <td>1750</td>\n",
       "      <td>9.872808</td>\n",
       "      <td>1.792405</td>\n",
       "    </tr>\n",
       "    <tr>\n",
       "      <th>4</th>\n",
       "      <td>1751</td>\n",
       "      <td>10.046739</td>\n",
       "      <td>1.733012</td>\n",
       "    </tr>\n",
       "  </tbody>\n",
       "</table>\n",
       "</div>"
      ],
      "text/plain": [
       "   Year AverageTemperature AverageTemperatureUncertainty\n",
       "                      mean                          mean\n",
       "0  1743           4.882424                      1.953902\n",
       "1  1744          10.734047                      1.844291\n",
       "2  1745           1.497593                      1.844013\n",
       "3  1750           9.872808                      1.792405\n",
       "4  1751          10.046739                      1.733012"
      ]
     },
     "execution_count": 83,
     "metadata": {},
     "output_type": "execute_result"
    }
   ],
   "source": [
    "# group by year and calculate the country's average temperature and uncertainty\n",
    "UK_avg = temperature.groupby(['Year'], as_index = False)['AverageTemperature', \"AverageTemperatureUncertainty\"].agg(['mean'])\n",
    "UK_avg = UK_avg.reset_index()\n",
    "UK_avg.head()"
   ]
  },
  {
   "cell_type": "code",
   "execution_count": 84,
   "metadata": {},
   "outputs": [
    {
     "data": {
      "text/html": [
       "<div>\n",
       "<style scoped>\n",
       "    .dataframe tbody tr th:only-of-type {\n",
       "        vertical-align: middle;\n",
       "    }\n",
       "\n",
       "    .dataframe tbody tr th {\n",
       "        vertical-align: top;\n",
       "    }\n",
       "\n",
       "    .dataframe thead tr th {\n",
       "        text-align: left;\n",
       "    }\n",
       "</style>\n",
       "<table border=\"1\" class=\"dataframe\">\n",
       "  <thead>\n",
       "    <tr>\n",
       "      <th></th>\n",
       "      <th>Year</th>\n",
       "      <th>AverageTemperature</th>\n",
       "      <th>AverageTemperatureUncertainty</th>\n",
       "    </tr>\n",
       "    <tr>\n",
       "      <th></th>\n",
       "      <th></th>\n",
       "      <th>mean</th>\n",
       "      <th>mean</th>\n",
       "    </tr>\n",
       "  </thead>\n",
       "  <tbody>\n",
       "    <tr>\n",
       "      <th>0</th>\n",
       "      <td>1743</td>\n",
       "      <td>4.882424</td>\n",
       "      <td>1.953902</td>\n",
       "    </tr>\n",
       "    <tr>\n",
       "      <th>1</th>\n",
       "      <td>1744</td>\n",
       "      <td>10.734047</td>\n",
       "      <td>1.844291</td>\n",
       "    </tr>\n",
       "    <tr>\n",
       "      <th>2</th>\n",
       "      <td>1745</td>\n",
       "      <td>1.497593</td>\n",
       "      <td>1.844013</td>\n",
       "    </tr>\n",
       "    <tr>\n",
       "      <th>3</th>\n",
       "      <td>1750</td>\n",
       "      <td>9.872808</td>\n",
       "      <td>1.792405</td>\n",
       "    </tr>\n",
       "    <tr>\n",
       "      <th>4</th>\n",
       "      <td>1751</td>\n",
       "      <td>10.046739</td>\n",
       "      <td>1.733012</td>\n",
       "    </tr>\n",
       "    <tr>\n",
       "      <th>5</th>\n",
       "      <td>1752</td>\n",
       "      <td>4.253064</td>\n",
       "      <td>1.977075</td>\n",
       "    </tr>\n",
       "    <tr>\n",
       "      <th>6</th>\n",
       "      <td>1753</td>\n",
       "      <td>9.452666</td>\n",
       "      <td>3.557897</td>\n",
       "    </tr>\n",
       "    <tr>\n",
       "      <th>7</th>\n",
       "      <td>1754</td>\n",
       "      <td>9.364700</td>\n",
       "      <td>3.197000</td>\n",
       "    </tr>\n",
       "    <tr>\n",
       "      <th>8</th>\n",
       "      <td>1755</td>\n",
       "      <td>8.825222</td>\n",
       "      <td>4.203707</td>\n",
       "    </tr>\n",
       "    <tr>\n",
       "      <th>9</th>\n",
       "      <td>1756</td>\n",
       "      <td>9.732708</td>\n",
       "      <td>4.075448</td>\n",
       "    </tr>\n",
       "  </tbody>\n",
       "</table>\n",
       "</div>"
      ],
      "text/plain": [
       "   Year AverageTemperature AverageTemperatureUncertainty\n",
       "                      mean                          mean\n",
       "0  1743           4.882424                      1.953902\n",
       "1  1744          10.734047                      1.844291\n",
       "2  1745           1.497593                      1.844013\n",
       "3  1750           9.872808                      1.792405\n",
       "4  1751          10.046739                      1.733012\n",
       "5  1752           4.253064                      1.977075\n",
       "6  1753           9.452666                      3.557897\n",
       "7  1754           9.364700                      3.197000\n",
       "8  1755           8.825222                      4.203707\n",
       "9  1756           9.732708                      4.075448"
      ]
     },
     "execution_count": 84,
     "metadata": {},
     "output_type": "execute_result"
    }
   ],
   "source": [
    "#order the dataframe by year\n",
    "UK_sorted = UK_avg.sort_values(['Year'], ascending = True)\n",
    "UK_sorted.head(10)"
   ]
  },
  {
   "cell_type": "code",
   "execution_count": 92,
   "metadata": {},
   "outputs": [
    {
     "name": "stdout",
     "output_type": "stream",
     "text": [
      "1743\n",
      "2013\n"
     ]
    }
   ],
   "source": [
    "#how many years data do we have (270)\n",
    "print(UK_sorted.Year.min())\n",
    "print(UK_sorted.Year.max())"
   ]
  },
  {
   "cell_type": "code",
   "execution_count": 85,
   "metadata": {},
   "outputs": [
    {
     "data": {
      "text/plain": [
       "MultiIndex(levels=[['AverageTemperature', 'AverageTemperatureUncertainty', 'Year'], ['mean', '']],\n",
       "           labels=[[2, 0, 1], [1, 0, 0]])"
      ]
     },
     "execution_count": 85,
     "metadata": {},
     "output_type": "execute_result"
    }
   ],
   "source": [
    "UK_sorted.columns"
   ]
  },
  {
   "cell_type": "code",
   "execution_count": 87,
   "metadata": {},
   "outputs": [
    {
     "name": "stdout",
     "output_type": "stream",
     "text": [
      "Index(['Year', 'avgTemperature', 'avgTemperatureUncertainty'], dtype='object')\n"
     ]
    }
   ],
   "source": [
    "UK_sorted.columns = ['Year', 'avgTemperature', 'avgTemperatureUncertainty']\n",
    "print(UK_sorted.columns)"
   ]
  },
  {
   "cell_type": "code",
   "execution_count": 90,
   "metadata": {},
   "outputs": [
    {
     "data": {
      "text/html": [
       "<div>\n",
       "<style scoped>\n",
       "    .dataframe tbody tr th:only-of-type {\n",
       "        vertical-align: middle;\n",
       "    }\n",
       "\n",
       "    .dataframe tbody tr th {\n",
       "        vertical-align: top;\n",
       "    }\n",
       "\n",
       "    .dataframe thead th {\n",
       "        text-align: right;\n",
       "    }\n",
       "</style>\n",
       "<table border=\"1\" class=\"dataframe\">\n",
       "  <thead>\n",
       "    <tr style=\"text-align: right;\">\n",
       "      <th></th>\n",
       "      <th>Year</th>\n",
       "      <th>avgTemperature</th>\n",
       "      <th>avgTemperatureUncertainty</th>\n",
       "      <th>avgTempLag</th>\n",
       "      <th>avgTempUncertaintyLag</th>\n",
       "    </tr>\n",
       "  </thead>\n",
       "  <tbody>\n",
       "    <tr>\n",
       "      <th>0</th>\n",
       "      <td>1743</td>\n",
       "      <td>4.882424</td>\n",
       "      <td>1.953902</td>\n",
       "      <td>0.000000</td>\n",
       "      <td>0.000000</td>\n",
       "    </tr>\n",
       "    <tr>\n",
       "      <th>1</th>\n",
       "      <td>1744</td>\n",
       "      <td>10.734047</td>\n",
       "      <td>1.844291</td>\n",
       "      <td>4.882424</td>\n",
       "      <td>1.953902</td>\n",
       "    </tr>\n",
       "    <tr>\n",
       "      <th>2</th>\n",
       "      <td>1745</td>\n",
       "      <td>1.497593</td>\n",
       "      <td>1.844013</td>\n",
       "      <td>10.734047</td>\n",
       "      <td>1.844291</td>\n",
       "    </tr>\n",
       "    <tr>\n",
       "      <th>3</th>\n",
       "      <td>1750</td>\n",
       "      <td>9.872808</td>\n",
       "      <td>1.792405</td>\n",
       "      <td>1.497593</td>\n",
       "      <td>1.844013</td>\n",
       "    </tr>\n",
       "    <tr>\n",
       "      <th>4</th>\n",
       "      <td>1751</td>\n",
       "      <td>10.046739</td>\n",
       "      <td>1.733012</td>\n",
       "      <td>9.872808</td>\n",
       "      <td>1.792405</td>\n",
       "    </tr>\n",
       "    <tr>\n",
       "      <th>5</th>\n",
       "      <td>1752</td>\n",
       "      <td>4.253064</td>\n",
       "      <td>1.977075</td>\n",
       "      <td>10.046739</td>\n",
       "      <td>1.733012</td>\n",
       "    </tr>\n",
       "    <tr>\n",
       "      <th>6</th>\n",
       "      <td>1753</td>\n",
       "      <td>9.452666</td>\n",
       "      <td>3.557897</td>\n",
       "      <td>4.253064</td>\n",
       "      <td>1.977075</td>\n",
       "    </tr>\n",
       "    <tr>\n",
       "      <th>7</th>\n",
       "      <td>1754</td>\n",
       "      <td>9.364700</td>\n",
       "      <td>3.197000</td>\n",
       "      <td>9.452666</td>\n",
       "      <td>3.557897</td>\n",
       "    </tr>\n",
       "    <tr>\n",
       "      <th>8</th>\n",
       "      <td>1755</td>\n",
       "      <td>8.825222</td>\n",
       "      <td>4.203707</td>\n",
       "      <td>9.364700</td>\n",
       "      <td>3.197000</td>\n",
       "    </tr>\n",
       "    <tr>\n",
       "      <th>9</th>\n",
       "      <td>1756</td>\n",
       "      <td>9.732708</td>\n",
       "      <td>4.075448</td>\n",
       "      <td>8.825222</td>\n",
       "      <td>4.203707</td>\n",
       "    </tr>\n",
       "    <tr>\n",
       "      <th>10</th>\n",
       "      <td>1757</td>\n",
       "      <td>9.519408</td>\n",
       "      <td>5.198372</td>\n",
       "      <td>9.732708</td>\n",
       "      <td>4.075448</td>\n",
       "    </tr>\n",
       "    <tr>\n",
       "      <th>11</th>\n",
       "      <td>1758</td>\n",
       "      <td>8.648494</td>\n",
       "      <td>5.470221</td>\n",
       "      <td>9.519408</td>\n",
       "      <td>5.198372</td>\n",
       "    </tr>\n",
       "    <tr>\n",
       "      <th>12</th>\n",
       "      <td>1759</td>\n",
       "      <td>9.691045</td>\n",
       "      <td>5.268307</td>\n",
       "      <td>8.648494</td>\n",
       "      <td>5.470221</td>\n",
       "    </tr>\n",
       "    <tr>\n",
       "      <th>13</th>\n",
       "      <td>1760</td>\n",
       "      <td>8.798938</td>\n",
       "      <td>4.494792</td>\n",
       "      <td>9.691045</td>\n",
       "      <td>5.268307</td>\n",
       "    </tr>\n",
       "    <tr>\n",
       "      <th>14</th>\n",
       "      <td>1761</td>\n",
       "      <td>9.794438</td>\n",
       "      <td>3.642707</td>\n",
       "      <td>8.798938</td>\n",
       "      <td>4.494792</td>\n",
       "    </tr>\n",
       "    <tr>\n",
       "      <th>15</th>\n",
       "      <td>1762</td>\n",
       "      <td>9.372744</td>\n",
       "      <td>4.536369</td>\n",
       "      <td>9.794438</td>\n",
       "      <td>3.642707</td>\n",
       "    </tr>\n",
       "    <tr>\n",
       "      <th>16</th>\n",
       "      <td>1763</td>\n",
       "      <td>8.744660</td>\n",
       "      <td>3.843720</td>\n",
       "      <td>9.372744</td>\n",
       "      <td>4.536369</td>\n",
       "    </tr>\n",
       "    <tr>\n",
       "      <th>17</th>\n",
       "      <td>1764</td>\n",
       "      <td>9.814162</td>\n",
       "      <td>3.866516</td>\n",
       "      <td>8.744660</td>\n",
       "      <td>3.843720</td>\n",
       "    </tr>\n",
       "    <tr>\n",
       "      <th>18</th>\n",
       "      <td>1765</td>\n",
       "      <td>9.386766</td>\n",
       "      <td>3.277158</td>\n",
       "      <td>9.814162</td>\n",
       "      <td>3.866516</td>\n",
       "    </tr>\n",
       "    <tr>\n",
       "      <th>19</th>\n",
       "      <td>1766</td>\n",
       "      <td>9.541005</td>\n",
       "      <td>3.840718</td>\n",
       "      <td>9.386766</td>\n",
       "      <td>3.277158</td>\n",
       "    </tr>\n",
       "  </tbody>\n",
       "</table>\n",
       "</div>"
      ],
      "text/plain": [
       "    Year  avgTemperature  avgTemperatureUncertainty  avgTempLag  \\\n",
       "0   1743        4.882424                   1.953902    0.000000   \n",
       "1   1744       10.734047                   1.844291    4.882424   \n",
       "2   1745        1.497593                   1.844013   10.734047   \n",
       "3   1750        9.872808                   1.792405    1.497593   \n",
       "4   1751       10.046739                   1.733012    9.872808   \n",
       "5   1752        4.253064                   1.977075   10.046739   \n",
       "6   1753        9.452666                   3.557897    4.253064   \n",
       "7   1754        9.364700                   3.197000    9.452666   \n",
       "8   1755        8.825222                   4.203707    9.364700   \n",
       "9   1756        9.732708                   4.075448    8.825222   \n",
       "10  1757        9.519408                   5.198372    9.732708   \n",
       "11  1758        8.648494                   5.470221    9.519408   \n",
       "12  1759        9.691045                   5.268307    8.648494   \n",
       "13  1760        8.798938                   4.494792    9.691045   \n",
       "14  1761        9.794438                   3.642707    8.798938   \n",
       "15  1762        9.372744                   4.536369    9.794438   \n",
       "16  1763        8.744660                   3.843720    9.372744   \n",
       "17  1764        9.814162                   3.866516    8.744660   \n",
       "18  1765        9.386766                   3.277158    9.814162   \n",
       "19  1766        9.541005                   3.840718    9.386766   \n",
       "\n",
       "    avgTempUncertaintyLag  \n",
       "0                0.000000  \n",
       "1                1.953902  \n",
       "2                1.844291  \n",
       "3                1.844013  \n",
       "4                1.792405  \n",
       "5                1.733012  \n",
       "6                1.977075  \n",
       "7                3.557897  \n",
       "8                3.197000  \n",
       "9                4.203707  \n",
       "10               4.075448  \n",
       "11               5.198372  \n",
       "12               5.470221  \n",
       "13               5.268307  \n",
       "14               4.494792  \n",
       "15               3.642707  \n",
       "16               4.536369  \n",
       "17               3.843720  \n",
       "18               3.866516  \n",
       "19               3.277158  "
      ]
     },
     "execution_count": 90,
     "metadata": {},
     "output_type": "execute_result"
    }
   ],
   "source": [
    "# create lag features to use in modelling \n",
    "UK_sorted['avgTempLag'] = UK_sorted['avgTemperature'].shift(1)\n",
    "UK_sorted['avgTempUncertaintyLag'] = UK_sorted['avgTemperatureUncertainty'].shift(1)\n",
    "UK_sorted = UK_sorted.fillna(0)\n",
    "UK_sorted.head(20)"
   ]
  },
  {
   "cell_type": "code",
   "execution_count": 95,
   "metadata": {},
   "outputs": [
    {
     "name": "stdout",
     "output_type": "stream",
     "text": [
      "<class 'pandas.core.frame.DataFrame'>\n",
      "Int64Index: 267 entries, 0 to 266\n",
      "Data columns (total 5 columns):\n",
      "Year                         267 non-null int64\n",
      "avgTemperature               267 non-null float64\n",
      "avgTemperatureUncertainty    267 non-null float64\n",
      "avgTempLag                   267 non-null float64\n",
      "avgTempUncertaintyLag        267 non-null float64\n",
      "dtypes: float64(4), int64(1)\n",
      "memory usage: 12.5 KB\n"
     ]
    }
   ],
   "source": [
    "#check data types are suitable for alogorithm application\n",
    "UK_sorted.info()"
   ]
  },
  {
   "cell_type": "code",
   "execution_count": 114,
   "metadata": {},
   "outputs": [
    {
     "data": {
      "text/plain": [
       "Year                         0\n",
       "avgTemperature               0\n",
       "avgTemperatureUncertainty    0\n",
       "avgTempLag                   0\n",
       "avgTempUncertaintyLag        0\n",
       "dtype: int64"
      ]
     },
     "execution_count": 114,
     "metadata": {},
     "output_type": "execute_result"
    }
   ],
   "source": [
    "#check there are no missing values\n",
    "UK_sorted.isnull().sum()"
   ]
  },
  {
   "cell_type": "code",
   "execution_count": 91,
   "metadata": {},
   "outputs": [
    {
     "name": "stdout",
     "output_type": "stream",
     "text": [
      "(186, 3)\n",
      "(81, 3)\n",
      "(186, 1)\n",
      "(81, 1)\n"
     ]
    }
   ],
   "source": [
    "X = UK_sorted.drop(['avgTemperature', 'avgTemperatureUncertainty'], axis =1)\n",
    "Y = UK_sorted[['avgTemperature']]\n",
    "X_train, X_test, Y_train, Y_test = train_test_split(X,Y,test_size = 0.3, shuffle = False, stratify = None)\n",
    "print(X_train.shape)\n",
    "print(X_test.shape)\n",
    "print(Y_train.shape)\n",
    "print(Y_test.shape)"
   ]
  },
  {
   "cell_type": "code",
   "execution_count": 94,
   "metadata": {},
   "outputs": [
    {
     "name": "stdout",
     "output_type": "stream",
     "text": [
      "1743\n",
      "1932\n",
      "1933\n",
      "2013\n"
     ]
    }
   ],
   "source": [
    "#check the temporal split has been applied properly\n",
    "print(X_train.Year.min())\n",
    "print(X_train.Year.max())\n",
    "print(X_test.Year.min())\n",
    "print(X_test.Year.max())"
   ]
  },
  {
   "cell_type": "code",
   "execution_count": 98,
   "metadata": {},
   "outputs": [
    {
     "data": {
      "text/plain": [
       "LinearRegression(copy_X=True, fit_intercept=True, n_jobs=None, normalize=False)"
      ]
     },
     "execution_count": 98,
     "metadata": {},
     "output_type": "execute_result"
    }
   ],
   "source": [
    "regressor = LinearRegression()  \n",
    "regressor.fit(X_train, Y_train)"
   ]
  },
  {
   "cell_type": "code",
   "execution_count": 119,
   "metadata": {},
   "outputs": [
    {
     "data": {
      "text/html": [
       "<div>\n",
       "<style scoped>\n",
       "    .dataframe tbody tr th:only-of-type {\n",
       "        vertical-align: middle;\n",
       "    }\n",
       "\n",
       "    .dataframe tbody tr th {\n",
       "        vertical-align: top;\n",
       "    }\n",
       "\n",
       "    .dataframe thead th {\n",
       "        text-align: right;\n",
       "    }\n",
       "</style>\n",
       "<table border=\"1\" class=\"dataframe\">\n",
       "  <thead>\n",
       "    <tr style=\"text-align: right;\">\n",
       "      <th></th>\n",
       "      <th>0</th>\n",
       "    </tr>\n",
       "  </thead>\n",
       "  <tbody>\n",
       "    <tr>\n",
       "      <th>0</th>\n",
       "      <td>18.408640</td>\n",
       "    </tr>\n",
       "    <tr>\n",
       "      <th>1</th>\n",
       "      <td>18.270488</td>\n",
       "    </tr>\n",
       "    <tr>\n",
       "      <th>2</th>\n",
       "      <td>18.439439</td>\n",
       "    </tr>\n",
       "    <tr>\n",
       "      <th>3</th>\n",
       "      <td>18.434870</td>\n",
       "    </tr>\n",
       "    <tr>\n",
       "      <th>4</th>\n",
       "      <td>18.456755</td>\n",
       "    </tr>\n",
       "  </tbody>\n",
       "</table>\n",
       "</div>"
      ],
      "text/plain": [
       "           0\n",
       "0  18.408640\n",
       "1  18.270488\n",
       "2  18.439439\n",
       "3  18.434870\n",
       "4  18.456755"
      ]
     },
     "execution_count": 119,
     "metadata": {},
     "output_type": "execute_result"
    }
   ],
   "source": [
    "y_pred = pd.DataFrame(regressor.predict(X_test))\n",
    "y_pred.head()"
   ]
  },
  {
   "cell_type": "code",
   "execution_count": 139,
   "metadata": {},
   "outputs": [
    {
     "data": {
      "text/html": [
       "<div>\n",
       "<style scoped>\n",
       "    .dataframe tbody tr th:only-of-type {\n",
       "        vertical-align: middle;\n",
       "    }\n",
       "\n",
       "    .dataframe tbody tr th {\n",
       "        vertical-align: top;\n",
       "    }\n",
       "\n",
       "    .dataframe thead th {\n",
       "        text-align: right;\n",
       "    }\n",
       "</style>\n",
       "<table border=\"1\" class=\"dataframe\">\n",
       "  <thead>\n",
       "    <tr style=\"text-align: right;\">\n",
       "      <th></th>\n",
       "      <th>Year</th>\n",
       "      <th>Actual_avgTemperature</th>\n",
       "      <th>Predicted_avgTemperature</th>\n",
       "    </tr>\n",
       "  </thead>\n",
       "  <tbody>\n",
       "    <tr>\n",
       "      <th>0</th>\n",
       "      <td>1933</td>\n",
       "      <td>17.428404</td>\n",
       "      <td>18.408640</td>\n",
       "    </tr>\n",
       "    <tr>\n",
       "      <th>1</th>\n",
       "      <td>1934</td>\n",
       "      <td>17.695059</td>\n",
       "      <td>18.270488</td>\n",
       "    </tr>\n",
       "    <tr>\n",
       "      <th>2</th>\n",
       "      <td>1935</td>\n",
       "      <td>17.647516</td>\n",
       "      <td>18.439439</td>\n",
       "    </tr>\n",
       "    <tr>\n",
       "      <th>3</th>\n",
       "      <td>1936</td>\n",
       "      <td>17.647437</td>\n",
       "      <td>18.434870</td>\n",
       "    </tr>\n",
       "    <tr>\n",
       "      <th>4</th>\n",
       "      <td>1937</td>\n",
       "      <td>17.764567</td>\n",
       "      <td>18.456755</td>\n",
       "    </tr>\n",
       "  </tbody>\n",
       "</table>\n",
       "</div>"
      ],
      "text/plain": [
       "   Year  Actual_avgTemperature  Predicted_avgTemperature\n",
       "0  1933              17.428404                 18.408640\n",
       "1  1934              17.695059                 18.270488\n",
       "2  1935              17.647516                 18.439439\n",
       "3  1936              17.647437                 18.434870\n",
       "4  1937              17.764567                 18.456755"
      ]
     },
     "execution_count": 139,
     "metadata": {},
     "output_type": "execute_result"
    }
   ],
   "source": [
    "actual_vs_predicted = pd.concat([X_test['Year'].reset_index(drop=True),Y_test.reset_index(drop=True), y_pred], axis=1)\n",
    "actual_vs_predicted.columns = ['Year','Actual_avgTemperature', 'Predicted_avgTemperature']\n",
    "actual_vs_predicted.head()"
   ]
  },
  {
   "cell_type": "code",
   "execution_count": 128,
   "metadata": {},
   "outputs": [
    {
     "name": "stdout",
     "output_type": "stream",
     "text": [
      "Mean Absolute Error: 1.41425600217782\n"
     ]
    }
   ],
   "source": [
    "print('Mean Absolute Error:', mean_absolute_error(Y_test, y_pred)) "
   ]
  },
  {
   "cell_type": "code",
   "execution_count": 138,
   "metadata": {},
   "outputs": [
    {
     "name": "stdout",
     "output_type": "stream",
     "text": [
      "R2: -16.888146656536232\n"
     ]
    }
   ],
   "source": [
    "#evaluate model\n",
    "print(\"R2:\", r2_score(Y_test, y_pred))"
   ]
  },
  {
   "cell_type": "code",
   "execution_count": 141,
   "metadata": {},
   "outputs": [
    {
     "data": {
      "image/png": "[encoded data removed]",
      "text/plain": [
       "<Figure size 432x288 with 1 Axes>"
      ]
     },
     "metadata": {},
     "output_type": "display_data"
    }
   ],
   "source": [
    "plt.plot(actual_vs_predicted.Year, actual_vs_predicted.Actual_avgTemperature, color='blue')\n",
    "plt.plot(actual_vs_predicted.Year, actual_vs_predicted.Predicted_avgTemperature, color='red')\n",
    "plt.legend()\n",
    "# Display the plot\n",
    "plt.show()"
   ]
  },
  {
   "cell_type": "markdown",
   "metadata": {},
   "source": [
    "## Task: Have a go at improving the model performance by applying the 'Gradient Boosted Regressor'"
   ]
  },
  {
   "cell_type": "code",
   "execution_count": null,
   "metadata": {},
   "outputs": [],
   "source": []
  },
  {
   "cell_type": "markdown",
   "metadata": {},
   "source": [
    "## Task: Think about what other features might be useful to include into the model (e.g. global pollution levels, global meat consumption, etc)"
   ]
  },
  {
   "cell_type": "code",
   "execution_count": null,
   "metadata": {},
   "outputs": [],
   "source": []
  },
  {
   "cell_type": "markdown",
   "metadata": {},
   "source": [
    "## Task: Have a go at building a machine learning model to predict average global temperature (we have previously just looked at the UK)"
   ]
  },
  {
   "cell_type": "code",
   "execution_count": null,
   "metadata": {},
   "outputs": [],
   "source": []
  }
 ],
 "metadata": {
  "kernelspec": {
   "display_name": "Python 3",
   "language": "python",
   "name": "python3"
  },
  "language_info": {
   "codemirror_mode": {
    "name": "ipython",
    "version": 3
   },
   "file_extension": ".py",
   "mimetype": "text/x-python",
   "name": "python",
   "nbconvert_exporter": "python",
   "pygments_lexer": "ipython3",
   "version": "3.6.5"
  }
 },
 "nbformat": 4,
 "nbformat_minor": 2
}
